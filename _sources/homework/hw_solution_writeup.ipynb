{
 "cells": [
  {
   "cell_type": "markdown",
   "metadata": {},
   "source": [
    "# Homework solution and worked example guidelines"
   ]
  },
  {
   "cell_type": "markdown",
   "metadata": {},
   "source": [
    "## Homework solution\n",
    "\n",
    "### Purpose\n",
    "The purpose of this task is to provide you with an opportunity to get more familiar with a topic covered in the course. While you may not have gotten the problem fully correct in your first attempt, but by taking a look at other approaches, and potentially see what are common errors or misunderstandings, you will be able to better understand the topic more deeply, and identify what the gap is in your understanding. Additionally, the ability to explain back and articulate the ideas back in written (or verbal) form will further solidify your understanding in the topic. While some things may seemingly \"make sense in your head\", you may discover knowledge gaps when you try to explain it back to somone.\n",
    "\n",
    "\"If you can't explain it simply, you don't understand it well enough\" -- Albert Einstein\n",
    "\n",
    "### Instructions\n",
    "Create a Jupyter Notebook with a detailed solution based on the original homework notebook. Include all necessary steps, explanations, code, and comments. Ensure the notebook runs without errors.\n",
    "For any code, please make sure it is well commented.\n",
    "\n",
    "If appropriate, please highlight common mistakes or errors you observed.\n",
    "\n",
    "\n",
    "### Submission\n",
    "The day after the homework submission deadline has passed, the TA will distribute the solutions to you.\n",
    "\n",
    "**Submission due date:** Approximate 1 week after the homework is due. See course schedule for more details.\n",
    "\n",
    "**Submission instructions:** Submit the jupyter notebook on Canvas.\n",
    "\n",
    "### Grading\n",
    "You will be graded based on on-time submission, and thoroughness of the solution.\n",
    "\n"
   ]
  },
  {
   "cell_type": "markdown",
   "metadata": {},
   "source": [
    "## Worked example\n",
    "\n",
    "### Purpose\n",
    "The purpose is similar to the homework solution write-up described above.\n",
    "As we have limited time in the quarter, we cannot have a homework problem for every single topic mentioned in lectures, or have time to go through a detailed worked example.\n",
    "As such, to complement the homework and examples in class, the purpose of this component is to provide worked examples for the class.\n",
    "Such examples could include a worked example of a technique that is referenced in lectures, but not covered in depth, or taking an existing example and improving it by adding more details or variation on it.\n",
    "\n",
    "Check out the [CVXPY](https://www.cvxpy.org/examples/index.html) examples page for some examples.\n",
    "\n",
    "### Instructions\n",
    "You will sign up for one of the weeks. You are expected to be present in lectures during that week (and really pay attention in class!). From the content covered that week, you will select a topic or something that was referenced and create a worked example on it. \n",
    "\n",
    "\n",
    "Create a Jupyter Notebook where you describe the problem (connecting it back to the lecture material), set up key equations and theory as needed. Provide relevant code corresponding to the problem set up and explain any relevant plots. Make sure to comment the code as appropriate.\n",
    "\n",
    "You may find `ipywidgets.interact` a useful visualization tool where you can create interactive plots with sliders. See the code snippet below. Note: the plot should update as your move the slider, but this is not rendered properly in this textbook...\n"
   ]
  },
  {
   "cell_type": "code",
   "execution_count": null,
   "metadata": {},
   "outputs": [],
   "source": [
    "from ipywidgets import interact\n",
    "import numpy as np\n",
    "import matplotlib.pyplot as plt"
   ]
  },
  {
   "cell_type": "code",
   "execution_count": null,
   "metadata": {},
   "outputs": [],
   "source": [
    "x = np.linspace(0, 2 * np.pi, 1000)"
   ]
  },
  {
   "cell_type": "code",
   "execution_count": null,
   "metadata": {},
   "outputs": [],
   "source": [
    "@interact(a=(0, 10, 0.1))\n",
    "def plot(a=1):\n",
    "    plt.figure(figsize=(5, 3))\n",
    "    y = np.sin(a * x)\n",
    "    plt.plot(x, y)\n",
    "    plt.ylim(-1, 1)"
   ]
  },
  {
   "cell_type": "markdown",
   "metadata": {},
   "source": [
    "\n",
    "### Submission\n",
    "**Submission due date:** Due the Wednesday midnight after the assigned week. E.g., if assigned week 6, then the worked example is due Wednesday week 7.\n",
    "\n",
    "**Submission instructions:** Submit the jupyter notebook on Canvas.\n",
    "\n",
    "### Grading\n",
    "You will be graded based on on-time submission, and thoroughness of the worked example.\n"
   ]
  }
 ],
 "metadata": {
  "kernelspec": {
   "display_name": "aa548",
   "language": "python",
   "name": "python3"
  },
  "language_info": {
   "codemirror_mode": {
    "name": "ipython",
    "version": 3
   },
   "file_extension": ".py",
   "mimetype": "text/x-python",
   "name": "python",
   "nbconvert_exporter": "python",
   "pygments_lexer": "ipython3",
   "version": "3.13.2"
  }
 },
 "nbformat": 4,
 "nbformat_minor": 2
}
